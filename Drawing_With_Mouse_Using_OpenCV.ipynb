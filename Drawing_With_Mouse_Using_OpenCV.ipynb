{
  "nbformat": 4,
  "nbformat_minor": 0,
  "metadata": {
    "colab": {
      "name": "Drawing With Mouse Using OpenCV.ipynb",
      "provenance": [],
      "authorship_tag": "ABX9TyPjXBdAnkEQ12kq4SHWk/oy",
      "include_colab_link": true
    },
    "kernelspec": {
      "name": "python3",
      "display_name": "Python 3"
    }
  },
  "cells": [
    {
      "cell_type": "markdown",
      "metadata": {
        "id": "view-in-github",
        "colab_type": "text"
      },
      "source": [
        "<a href=\"https://colab.research.google.com/github/josharsh/OpenCVLearn/blob/master/Drawing_With_Mouse_Using_OpenCV.ipynb\" target=\"_parent\"><img src=\"https://colab.research.google.com/assets/colab-badge.svg\" alt=\"Open In Colab\"/></a>"
      ]
    },
    {
      "cell_type": "markdown",
      "metadata": {
        "id": "c_xA-JYDD1Ro",
        "colab_type": "text"
      },
      "source": [
        "# Drawing with Mouse using OpenCV"
      ]
    },
    {
      "cell_type": "code",
      "metadata": {
        "id": "Ke5dtJ2FD0lN",
        "colab_type": "code",
        "colab": {}
      },
      "source": [
        "import numpy as np\n",
        "import matplotlib.pyplot as plt\n",
        "import cv2\n",
        "\n",
        "%matplotlib inline "
      ],
      "execution_count": 0,
      "outputs": []
    },
    {
      "cell_type": "code",
      "metadata": {
        "id": "bM9HrvG5EFxw",
        "colab_type": "code",
        "colab": {}
      },
      "source": [
        "def draw_circle(event,x,y, flags,params):\n",
        "  if event==cv2.EVENT_LBUTTONDOWN:\n",
        "    cv2.circle(img,\n",
        "               (x,y),\n",
        "               50,\n",
        "               (78,96,57),\n",
        "               -1)"
      ],
      "execution_count": 0,
      "outputs": []
    },
    {
      "cell_type": "code",
      "metadata": {
        "id": "DEOoEgLqEw7t",
        "colab_type": "code",
        "colab": {}
      },
      "source": [
        "cv2.namedWindow(winname=\"Draw Circles in Me\")"
      ],
      "execution_count": 0,
      "outputs": []
    },
    {
      "cell_type": "code",
      "metadata": {
        "id": "yP6ncqsAExOH",
        "colab_type": "code",
        "colab": {}
      },
      "source": [
        "cv2.setMouseCallback('drawing',draw_circle)"
      ],
      "execution_count": 0,
      "outputs": []
    },
    {
      "cell_type": "code",
      "metadata": {
        "id": "9t7pdY7CFHAk",
        "colab_type": "code",
        "colab": {}
      },
      "source": [
        "img=np.zeros((512,512,3),dtype=np.int8)\n",
        "while True:\n",
        "  plt.imshow('drawing',img)\n",
        "  if cv2.waitkey(5) & 0XFF==27:\n",
        "    break\n",
        "cv2.destroyAllWindows"
      ],
      "execution_count": 0,
      "outputs": []
    }
  ]
}